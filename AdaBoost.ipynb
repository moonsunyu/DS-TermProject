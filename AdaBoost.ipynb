{
 "cells": [
  {
   "cell_type": "code",
   "execution_count": null,
   "id": "8f484e13-39be-42f7-89f1-b935abaf2278",
   "metadata": {},
   "outputs": [],
   "source": [
    "import pandas as pd\n",
    "from sklearn.model_selection import train_test_split, cross_val_score\n",
    "from sklearn.ensemble import AdaBoostClassifier\n",
    "from sklearn.metrics import classification_report\n",
    "from sklearn.preprocessing import LabelEncoder\n",
    "import joblib\n",
    "import os\n",
    "\n",
    "# 1. 데이터 불러오기\n",
    "df = pd.read_csv(\"C:\\\\Users\\\\SAMSUNG\\\\Desktop\\\\dataScience\\\\movies_preprocessed_normalized.csv\")\n",
    "\n",
    "# 2. 문자열 변수 인코딩\n",
    "categorical_cols = [\n",
    "    \"rating\", \"runtime_category\", \"director_top10\", \"writer_top10\",\n",
    "    \"star_top30\", \"genre_top10\", \"country_top5\", \"company_top10\"\n",
    "]\n",
    "for col in categorical_cols:\n",
    "    df[col] = LabelEncoder().fit_transform(df[col].astype(str))\n",
    "\n",
    "# 3. feature / label 분리\n",
    "drop_cols = [\"is_hit\", \"gross\", \"name\", \"cluster_label\"]\n",
    "X = df.drop(columns=drop_cols)\n",
    "y = df[\"is_hit\"]\n",
    "\n",
    "# 4. 학습/테스트 분리\n",
    "X_train, X_test, y_train, y_test = train_test_split(\n",
    "    X, y, test_size=0.2, random_state=42\n",
    ")\n",
    "\n",
    "# 5. AdaBoost 학습\n",
    "ada = AdaBoostClassifier(n_estimators=100, random_state=42)\n",
    "ada.fit(X_train, y_train)\n",
    "\n",
    "# 6. 교차검증\n",
    "cv_scores_ada = cross_val_score(ada, X_train, y_train, cv=5, scoring=\"accuracy\")\n",
    "print(f\"[AdaBoost] 5-Fold CV 평균 정확도: {cv_scores_ada.mean():.4f}\")\n",
    "\n",
    "# 7. 테스트셋 평가\n",
    "y_pred_ada = ada.predict(X_test)\n",
    "report_ada = classification_report(y_test, y_pred_ada, digits=4)\n",
    "print(\"[AdaBoost] 테스트셋 평가\")\n",
    "print(report_ada)\n",
    "\n",
    "# 8. 결과 저장\n",
    "os.makedirs(\"C:\\\\Users\\\\SAMSUNG\\\\Desktop\\\\dataScience\", exist_ok=True)\n",
    "with open(\"C:\\\\Users\\\\SAMSUNG\\\\Desktop\\\\dataScience\\\\adaboost_report.txt\", \"w\") as f:\n",
    "    f.write(report_ada)\n",
    "\n",
    "# 9. 모델 저장\n",
    "os.makedirs(\"C:\\\\Users\\\\SAMSUNG\\\\Desktop\\\\dataScience\\\\model\", exist_ok=True)\n",
    "joblib.dump(ada, \"C:\\\\Users\\\\SAMSUNG\\\\Desktop\\\\dataScience\\\\model\\\\adaboost_model.pkl\")\n",
    "print(\"모델 저장 완료\")\n"
   ]
  }
 ],
 "metadata": {
  "kernelspec": {
   "display_name": "Python 3 (ipykernel)",
   "language": "python",
   "name": "python3"
  },
  "language_info": {
   "codemirror_mode": {
    "name": "ipython",
    "version": 3
   },
   "file_extension": ".py",
   "mimetype": "text/x-python",
   "name": "python",
   "nbconvert_exporter": "python",
   "pygments_lexer": "ipython3",
   "version": "3.11.9"
  }
 },
 "nbformat": 4,
 "nbformat_minor": 5
}
