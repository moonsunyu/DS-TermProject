{
 "cells": [
  {
   "cell_type": "code",
   "execution_count": 3,
   "id": "32d5b435-51a4-4b1a-91c4-a4dcbaee6227",
   "metadata": {},
   "outputs": [
    {
     "name": "stdout",
     "output_type": "stream",
     "text": [
      "[Gradient Boosting] 5-Fold CV 평균 정확도: 0.7491\n",
      "[Gradient Boosting] 테스트셋 평가\n",
      "              precision    recall  f1-score   support\n",
      "\n",
      "           0     0.7439    0.7930    0.7677       575\n",
      "           1     0.7495    0.6940    0.7206       513\n",
      "\n",
      "    accuracy                         0.7463      1088\n",
      "   macro avg     0.7467    0.7435    0.7442      1088\n",
      "weighted avg     0.7465    0.7463    0.7455      1088\n",
      "\n",
      "모델 저장 완료\n"
     ]
    }
   ],
   "source": [
    "import pandas as pd\n",
    "from sklearn.model_selection import train_test_split, cross_val_score\n",
    "from sklearn.ensemble import GradientBoostingClassifier\n",
    "from sklearn.metrics import classification_report\n",
    "from sklearn.preprocessing import LabelEncoder\n",
    "import joblib\n",
    "import os\n",
    "\n",
    "# 1. 데이터 불러오기\n",
    "df = pd.read_csv(\"C:\\\\Users\\\\SAMSUNG\\\\Desktop\\\\dataScience\\\\movies_preprocessed_normalized.csv\")\n",
    "\n",
    "# 2. 문자열 변수 인코딩\n",
    "categorical_cols = [\n",
    "    \"rating\", \"runtime_category\", \"director_top10\", \"writer_top10\",\n",
    "    \"star_top30\", \"genre_top10\", \"country_top5\", \"company_top10\"\n",
    "]\n",
    "for col in categorical_cols:\n",
    "    df[col] = LabelEncoder().fit_transform(df[col].astype(str))\n",
    "\n",
    "# 3. feature / label 분리\n",
    "drop_cols = [\"is_hit\", \"gross\", \"name\", \"cluster_label\"]\n",
    "X = df.drop(columns=drop_cols)\n",
    "y = df[\"is_hit\"]\n",
    "\n",
    "# 4. 학습/테스트 분리\n",
    "X_train, X_test, y_train, y_test = train_test_split(\n",
    "    X, y, test_size=0.2, random_state=42\n",
    ")\n",
    "\n",
    "# 5. Gradient Boosting 학습\n",
    "gbc = GradientBoostingClassifier(n_estimators=100, learning_rate=0.1, max_depth=3, random_state=42)\n",
    "gbc.fit(X_train, y_train)\n",
    "\n",
    "# 6. 교차검증\n",
    "cv_scores_gb = cross_val_score(gbc, X_train, y_train, cv=5, scoring=\"accuracy\")\n",
    "print(f\"[Gradient Boosting] 5-Fold CV 평균 정확도: {cv_scores_gb.mean():.4f}\")\n",
    "\n",
    "# 7. 테스트셋 평가\n",
    "y_pred_gb = gbc.predict(X_test)\n",
    "report_gb = classification_report(y_test, y_pred_gb, digits=4)\n",
    "print(\"[Gradient Boosting] 테스트셋 평가\")\n",
    "print(report_gb)\n",
    "\n",
    "# 8. 결과 저장\n",
    "os.makedirs(\"C:\\\\Users\\\\SAMSUNG\\\\Desktop\\\\dataScience\\\\result\", exist_ok=True)\n",
    "with open(\"C:\\\\Users\\\\SAMSUNG\\\\Desktop\\\\dataScience\\\\result\\\\gradient_boosting_report.txt\", \"w\") as f:\n",
    "    f.write(report_gb)\n",
    "\n",
    "# 9. 모델 저장\n",
    "os.makedirs(\"C:\\\\Users\\\\SAMSUNG\\\\Desktop\\\\dataScience\\\\model\", exist_ok=True)\n",
    "joblib.dump(gbc, \"C:\\\\Users\\\\SAMSUNG\\\\Desktop\\\\dataScience\\\\model\\\\gradient_boosting_model.pkl\")\n",
    "print(\"모델 저장 완료\")"
   ]
  },
  {
   "cell_type": "code",
   "execution_count": null,
   "id": "bf34ccbd-ce08-42a8-aa86-cdfc3079d820",
   "metadata": {},
   "outputs": [],
   "source": []
  }
 ],
 "metadata": {
  "kernelspec": {
   "display_name": "Python 3 (ipykernel)",
   "language": "python",
   "name": "python3"
  },
  "language_info": {
   "codemirror_mode": {
    "name": "ipython",
    "version": 3
   },
   "file_extension": ".py",
   "mimetype": "text/x-python",
   "name": "python",
   "nbconvert_exporter": "python",
   "pygments_lexer": "ipython3",
   "version": "3.11.9"
  }
 },
 "nbformat": 4,
 "nbformat_minor": 5
}
